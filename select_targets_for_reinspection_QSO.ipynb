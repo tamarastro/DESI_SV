{
 "cells": [
  {
   "cell_type": "markdown",
   "metadata": {},
   "source": [
    "# Selecting targets for visual re-inspection\n",
    "Adapted from Rita Tojeiro's notebook in ritatojeiro/DESI_SV/select_targets_for_reinspection_ELG.ipynb\n",
    "## QSOs - tile 68002\n",
    "This notebook will merge the truth tables with Andes redrock files and select targets that need to be re-inspected, according to the following criteria:\n",
    "* Redrock z changed between original and new;\n",
    "* Redrock chisq or delta chisq changed by a large amount.\n",
    "* New Redrock z disagrees with visual inspections;\n",
    "* New Redrock Spec type differs from VI;\n",
    "* The VI flag was < 2.5. N.B: I changed this to <= 2.5"
   ]
  },
  {
   "cell_type": "code",
   "execution_count": 3,
   "metadata": {},
   "outputs": [],
   "source": [
    "import os, sys, glob\n",
    "import numpy as np\n",
    "\n",
    "from astropy.io import fits\n",
    "from astropy.table import Table, join, vstack\n",
    "from astropy.io import fits\n",
    "\n",
    "import pandas as pd\n",
    "import fnmatch\n",
    "\n",
    "import desispec.io\n",
    "\n",
    "sys.path.append(\"/global/homes/t/tamarad/SV/DESI_SV\")\n",
    "import VI_utils as VI\n",
    "\n",
    "import matplotlib.pyplot as plt \n",
    "\n",
    "pd.set_option('display.max_rows', 50)"
   ]
  },
  {
   "cell_type": "code",
   "execution_count": 4,
   "metadata": {},
   "outputs": [],
   "source": [
    "tiledir_andes='/global/cfs/cdirs/desi/spectro/redux/andes/tiles/'\n",
    "tiledir = '/global/cfs/cdirs/desi/spectro/redux/daily/tiles/'\n",
    "tile = '68002'\n",
    "date = '20200315'\n",
    "spectrograph = ['0','1', '2', '3', '4', '5', '6' ,'7', '8', '9']"
   ]
  },
  {
   "cell_type": "code",
   "execution_count": 5,
   "metadata": {},
   "outputs": [],
   "source": [
    "save_filename = 'QSO_reinspection_68002.csv'"
   ]
  },
  {
   "cell_type": "markdown",
   "metadata": {},
   "source": [
    "## Read in Truth Table"
   ]
  },
  {
   "cell_type": "code",
   "execution_count": 7,
   "metadata": {},
   "outputs": [],
   "source": [
    "full_filename = 'truth_table_QSO_v1.2.csv'\n",
    "# Put a fixed directory string here, Rita had os.environ['TT_DIR']+'/'+full_filename\n",
    "truth_table = pd.read_csv('/global/cfs/cdirs/desi/sv/vi/TruthTables/'+full_filename)\n",
    "#convert from pandas DataFrame to astropy Table for ease later\n",
    "#truth_table = Table.from_pandas(df)"
   ]
  },
  {
   "cell_type": "code",
   "execution_count": 8,
   "metadata": {},
   "outputs": [
    {
     "data": {
      "text/plain": [
       "Index(['TARGETID', 'Redrock z', 'best z', 'best quality', 'Redrock spectype',\n",
       "       'best spectype', 'all VI issues', 'all VI comments', 'merger comment',\n",
       "       'N_VI', 'DELTACHI2', 'ZWARN', 'ZERR', 'FIBER', 'FLUX_G', 'FLUX_R',\n",
       "       'FLUX_Z', 'FIBERFLUX_G', 'FIBERFLUX_R', 'FIBERFLUX_Z',\n",
       "       'MW_TRANSMISSION_G', 'MW_TRANSMISSION_R', 'MW_TRANSMISSION_Z'],\n",
       "      dtype='object')"
      ]
     },
     "execution_count": 8,
     "metadata": {},
     "output_type": "execute_result"
    }
   ],
   "source": [
    "truth_table.keys()"
   ]
  },
  {
   "cell_type": "markdown",
   "metadata": {},
   "source": [
    "First, add chi2 from the original reductions, as we never added that to the truth tables"
   ]
  },
  {
   "cell_type": "code",
   "execution_count": 9,
   "metadata": {},
   "outputs": [],
   "source": [
    "#read in zbest info, loop over the files for all the spectrographs\n",
    "tspec = Table.read(tiledir+'/'+tile + '/'+date+'/zbest-'+str(spectrograph[0])+'-'+str(tile)+'-'+date+'.fits',hdu='ZBEST')\n",
    "for i in range(1,len(spectrograph)):\n",
    "    tn = Table.read(tiledir+'/'+tile + '/'+date+'/zbest-'+str(spectrograph[i])+'-'+str(tile)+'-'+date+'.fits',hdu='ZBEST')\n",
    "    tspec = vstack([tspec,tn])\n",
    "\n",
    "tspec_df = tspec['TARGETID','CHI2'].to_pandas()\n",
    "\n",
    "truth_table = truth_table.merge(tspec_df, how='left', on='TARGETID')"
   ]
  },
  {
   "cell_type": "code",
   "execution_count": 10,
   "metadata": {},
   "outputs": [
    {
     "data": {
      "text/plain": [
       "Index(['TARGETID', 'Redrock z', 'best z', 'best quality', 'Redrock spectype',\n",
       "       'best spectype', 'all VI issues', 'all VI comments', 'merger comment',\n",
       "       'N_VI', 'DELTACHI2', 'ZWARN', 'ZERR', 'FIBER', 'FLUX_G', 'FLUX_R',\n",
       "       'FLUX_Z', 'FIBERFLUX_G', 'FIBERFLUX_R', 'FIBERFLUX_Z',\n",
       "       'MW_TRANSMISSION_G', 'MW_TRANSMISSION_R', 'MW_TRANSMISSION_Z', 'CHI2'],\n",
       "      dtype='object')"
      ]
     },
     "execution_count": 10,
     "metadata": {},
     "output_type": "execute_result"
    }
   ],
   "source": [
    "truth_table.keys()"
   ]
  },
  {
   "cell_type": "markdown",
   "metadata": {},
   "source": [
    "Now add information from the Andes reductions: redshift, chi2, deltachi2, spectype and warning flags"
   ]
  },
  {
   "cell_type": "code",
   "execution_count": 11,
   "metadata": {},
   "outputs": [],
   "source": [
    "#read in zbest info, loop over the files for all the spectrographs\n",
    "tspec = Table.read(tiledir_andes+'/'+tile + '/'+date+'/zbest-'+str(spectrograph[0])+'-'+str(tile)+'-'+date+'.fits',hdu='ZBEST')\n",
    "for i in range(1,len(spectrograph)):\n",
    "    tn = Table.read(tiledir_andes+'/'+tile + '/'+date+'/zbest-'+str(spectrograph[i])+'-'+str(tile)+'-'+date+'.fits',hdu='ZBEST')\n",
    "    tspec = vstack([tspec,tn])\n",
    "\n",
    "tspec_df = tspec['TARGETID','Z','CHI2', 'DELTACHI2','ZWARN', 'ZERR', 'SPECTYPE' ].to_pandas()\n",
    "\n",
    "tspec_df = tspec_df.rename(columns={\"Z\": \"Z_andes\"})\n",
    "tspec_df = tspec_df.rename(columns={\"CHI2\": \"CHI2_andes\"})\n",
    "tspec_df = tspec_df.rename(columns={\"SPECTYPE\": \"SPECTYPE_andes\"})\n",
    "\n",
    "truth_table = truth_table.merge(tspec_df, how='left', on='TARGETID', suffixes=('', '_andes'))"
   ]
  },
  {
   "cell_type": "code",
   "execution_count": 12,
   "metadata": {},
   "outputs": [
    {
     "data": {
      "text/plain": [
       "Index(['TARGETID', 'Redrock z', 'best z', 'best quality', 'Redrock spectype',\n",
       "       'best spectype', 'all VI issues', 'all VI comments', 'merger comment',\n",
       "       'N_VI', 'DELTACHI2', 'ZWARN', 'ZERR', 'FIBER', 'FLUX_G', 'FLUX_R',\n",
       "       'FLUX_Z', 'FIBERFLUX_G', 'FIBERFLUX_R', 'FIBERFLUX_Z',\n",
       "       'MW_TRANSMISSION_G', 'MW_TRANSMISSION_R', 'MW_TRANSMISSION_Z', 'CHI2',\n",
       "       'Z_andes', 'CHI2_andes', 'DELTACHI2_andes', 'ZWARN_andes', 'ZERR_andes',\n",
       "       'SPECTYPE_andes'],\n",
       "      dtype='object')"
      ]
     },
     "execution_count": 12,
     "metadata": {},
     "output_type": "execute_result"
    }
   ],
   "source": [
    "truth_table.keys()"
   ]
  },
  {
   "cell_type": "markdown",
   "metadata": {},
   "source": [
    "- Redrock z changed between original and new; (done) - Redrock chisq or delta chisq changed by a large amount. (done for deltachi2) - New Redrock z disagrees with visual inspections; (done) - New Redrock Spec type differs from VI; (done) - The VI flag was < 2.5. (done)"
   ]
  },
  {
   "cell_type": "code",
   "execution_count": 13,
   "metadata": {},
   "outputs": [
    {
     "data": {
      "text/plain": [
       "Text(0,0.5,'DELTACHI Andes')"
      ]
     },
     "execution_count": 13,
     "metadata": {},
     "output_type": "execute_result"
    },
    {
     "data": {
      "image/png": "[encoded data removed]",
      "text/plain": [
       "<matplotlib.figure.Figure at 0x2aaae15f3ac8>"
      ]
     },
     "metadata": {
      "needs_background": "light"
     },
     "output_type": "display_data"
    }
   ],
   "source": [
    "plt.figure(figsize=(10,7))\n",
    "plt.scatter(np.log10(truth_table['DELTACHI2']), np.log10(truth_table['DELTACHI2_andes']))\n",
    "plt.plot([-1,6], [-1,6], color='red')\n",
    "plt.xlabel('DELTACHI')\n",
    "plt.ylabel('DELTACHI Andes')"
   ]
  },
  {
   "cell_type": "code",
   "execution_count": 14,
   "metadata": {},
   "outputs": [
    {
     "data": {
      "text/plain": [
       "Text(0,0.5,'DELTACHI Andes')"
      ]
     },
     "execution_count": 14,
     "metadata": {},
     "output_type": "execute_result"
    },
    {
     "data": {
      "image/png": "[encoded data removed]",
      "text/plain": [
       "<matplotlib.figure.Figure at 0x2aaae1c6a7f0>"
      ]
     },
     "metadata": {
      "needs_background": "light"
     },
     "output_type": "display_data"
    }
   ],
   "source": [
    "plt.figure(figsize=(10,7))\n",
    "plt.scatter(np.log10(truth_table['DELTACHI2']), \n",
    "    (np.log10(truth_table['DELTACHI2'])-np.log10(truth_table['DELTACHI2_andes'])))\n",
    "plt.plot([-1,6], [0,0], color='red')\n",
    "plt.xlabel('DELTACHI')\n",
    "plt.ylabel('DELTACHI Andes')"
   ]
  },
  {
   "cell_type": "code",
   "execution_count": 15,
   "metadata": {},
   "outputs": [
    {
     "data": {
      "text/plain": [
       "Text(0,0.5,'N')"
      ]
     },
     "execution_count": 15,
     "metadata": {},
     "output_type": "execute_result"
    },
    {
     "data": {
      "image/png": "[encoded data removed]",
      "text/plain": [
       "<matplotlib.figure.Figure at 0x2aaae1cd16a0>"
      ]
     },
     "metadata": {
      "needs_background": "light"
     },
     "output_type": "display_data"
    }
   ],
   "source": [
    "plt.figure(figsize=(10,7))\n",
    "x=plt.hist(np.log10(truth_table['DELTACHI2'])-np.log10(truth_table['DELTACHI2_andes']), bins=50,\n",
    "            range=(-0.5,0.5))\n",
    "plt.xlabel('log_delchi2 - log_deltachi2_andes')\n",
    "plt.ylabel('N')"
   ]
  },
  {
   "cell_type": "markdown",
   "metadata": {},
   "source": [
    "I'm going to include everything for which log10_deltachi2 changed by more than 0.1 in absolute value"
   ]
  },
  {
   "cell_type": "code",
   "execution_count": 16,
   "metadata": {},
   "outputs": [
    {
     "data": {
      "text/plain": [
       "Text(0,0.5,'log CHI2 Andes')"
      ]
     },
     "execution_count": 16,
     "metadata": {},
     "output_type": "execute_result"
    },
    {
     "data": {
      "image/png": "[encoded data removed]",
      "text/plain": [
       "<matplotlib.figure.Figure at 0x2aaae1d201d0>"
      ]
     },
     "metadata": {
      "needs_background": "light"
     },
     "output_type": "display_data"
    }
   ],
   "source": [
    "plt.figure(figsize=(10,7))\n",
    "plt.scatter(np.log10(truth_table['CHI2']), np.log10(truth_table['CHI2_andes']))\n",
    "plt.plot([3.8,5], [3.8,5], color='red')\n",
    "plt.xlabel('log CHI2')\n",
    "plt.ylabel('log CHI2 Andes')"
   ]
  },
  {
   "cell_type": "markdown",
   "metadata": {},
   "source": [
    "Chi2 is generally higher in Andes, so I'm not going to include chi2 difference between original and Andes reductions in the criteria for re-inspection."
   ]
  },
  {
   "cell_type": "code",
   "execution_count": 18,
   "metadata": {},
   "outputs": [
    {
     "name": "stdout",
     "output_type": "stream",
     "text": [
      "420\n"
     ]
    }
   ],
   "source": [
    "re_VI = truth_table[ \\\n",
    "            ((truth_table['Redrock z']-truth_table['Z_andes'])/(1+truth_table['Redrock z']) > 0.0033) | \n",
    "            ((truth_table['best z']-truth_table['Z_andes'])/(1+truth_table['best z']) > 0.0033) |\n",
    "            (truth_table['best spectype'] != truth_table['SPECTYPE_andes']) |\n",
    "            (truth_table['best quality'] <= 2.5) | \n",
    "            (np.abs(np.log10(truth_table['DELTACHI2'])-np.log10(truth_table['DELTACHI2_andes'])) > 0.1 )       \n",
    "            ]\n",
    "print(len(re_VI))"
   ]
  },
  {
   "cell_type": "code",
   "execution_count": 19,
   "metadata": {},
   "outputs": [
    {
     "data": {
      "text/plain": [
       "Index(['TARGETID', 'Redrock z', 'best z', 'best quality', 'Redrock spectype',\n",
       "       'best spectype', 'all VI issues', 'all VI comments', 'merger comment',\n",
       "       'N_VI', 'DELTACHI2', 'ZWARN', 'ZERR', 'FIBER', 'FLUX_G', 'FLUX_R',\n",
       "       'FLUX_Z', 'FIBERFLUX_G', 'FIBERFLUX_R', 'FIBERFLUX_Z',\n",
       "       'MW_TRANSMISSION_G', 'MW_TRANSMISSION_R', 'MW_TRANSMISSION_Z', 'CHI2',\n",
       "       'Z_andes', 'CHI2_andes', 'DELTACHI2_andes', 'ZWARN_andes', 'ZERR_andes',\n",
       "       'SPECTYPE_andes'],\n",
       "      dtype='object')"
      ]
     },
     "execution_count": 19,
     "metadata": {},
     "output_type": "execute_result"
    }
   ],
   "source": [
    "re_VI.keys()"
   ]
  },
  {
   "cell_type": "code",
   "execution_count": 20,
   "metadata": {},
   "outputs": [
    {
     "data": {
      "text/html": [
       "<div>\n",
       "<style scoped>\n",
       "    .dataframe tbody tr th:only-of-type {\n",
       "        vertical-align: middle;\n",
       "    }\n",
       "\n",
       "    .dataframe tbody tr th {\n",
       "        vertical-align: top;\n",
       "    }\n",
       "\n",
       "    .dataframe thead th {\n",
       "        text-align: right;\n",
       "    }\n",
       "</style>\n",
       "<table border=\"1\" class=\"dataframe\">\n",
       "  <thead>\n",
       "    <tr style=\"text-align: right;\">\n",
       "      <th></th>\n",
       "      <th>best z</th>\n",
       "      <th>Redrock z</th>\n",
       "      <th>Z_andes</th>\n",
       "      <th>best quality</th>\n",
       "      <th>best spectype</th>\n",
       "      <th>SPECTYPE_andes</th>\n",
       "    </tr>\n",
       "  </thead>\n",
       "  <tbody>\n",
       "    <tr>\n",
       "      <th>0</th>\n",
       "      <td>1.499500</td>\n",
       "      <td>1.4995</td>\n",
       "      <td>1.499507</td>\n",
       "      <td>1.000000</td>\n",
       "      <td>GALAXY</td>\n",
       "      <td>GALAXY</td>\n",
       "    </tr>\n",
       "    <tr>\n",
       "      <th>1</th>\n",
       "      <td>0.410200</td>\n",
       "      <td>0.4102</td>\n",
       "      <td>0.410166</td>\n",
       "      <td>3.600000</td>\n",
       "      <td>GALAXY</td>\n",
       "      <td>GALAXY</td>\n",
       "    </tr>\n",
       "    <tr>\n",
       "      <th>5</th>\n",
       "      <td>0.458600</td>\n",
       "      <td>0.4586</td>\n",
       "      <td>0.458561</td>\n",
       "      <td>1.000000</td>\n",
       "      <td>GALAXY</td>\n",
       "      <td>GALAXY</td>\n",
       "    </tr>\n",
       "    <tr>\n",
       "      <th>6</th>\n",
       "      <td>0.935700</td>\n",
       "      <td>0.9357</td>\n",
       "      <td>0.935665</td>\n",
       "      <td>4.000000</td>\n",
       "      <td>QSO</td>\n",
       "      <td>GALAXY</td>\n",
       "    </tr>\n",
       "    <tr>\n",
       "      <th>7</th>\n",
       "      <td>1.500500</td>\n",
       "      <td>1.5005</td>\n",
       "      <td>1.500476</td>\n",
       "      <td>1.000000</td>\n",
       "      <td>GALAXY</td>\n",
       "      <td>GALAXY</td>\n",
       "    </tr>\n",
       "    <tr>\n",
       "      <th>9</th>\n",
       "      <td>0.008340</td>\n",
       "      <td>0.0080</td>\n",
       "      <td>0.007994</td>\n",
       "      <td>2.000000</td>\n",
       "      <td>STAR</td>\n",
       "      <td>GALAXY</td>\n",
       "    </tr>\n",
       "    <tr>\n",
       "      <th>10</th>\n",
       "      <td>0.955900</td>\n",
       "      <td>0.9559</td>\n",
       "      <td>1.005527</td>\n",
       "      <td>2.000000</td>\n",
       "      <td>GALAXY</td>\n",
       "      <td>GALAXY</td>\n",
       "    </tr>\n",
       "    <tr>\n",
       "      <th>12</th>\n",
       "      <td>-0.000200</td>\n",
       "      <td>-0.0002</td>\n",
       "      <td>-0.000192</td>\n",
       "      <td>4.000000</td>\n",
       "      <td>STAR</td>\n",
       "      <td>STAR</td>\n",
       "    </tr>\n",
       "    <tr>\n",
       "      <th>13</th>\n",
       "      <td>1.578800</td>\n",
       "      <td>1.5788</td>\n",
       "      <td>1.578776</td>\n",
       "      <td>2.500000</td>\n",
       "      <td>GALAXY</td>\n",
       "      <td>GALAXY</td>\n",
       "    </tr>\n",
       "    <tr>\n",
       "      <th>14</th>\n",
       "      <td>0.000000</td>\n",
       "      <td>1.6285</td>\n",
       "      <td>1.630592</td>\n",
       "      <td>3.000000</td>\n",
       "      <td>STAR</td>\n",
       "      <td>GALAXY</td>\n",
       "    </tr>\n",
       "    <tr>\n",
       "      <th>15</th>\n",
       "      <td>0.015300</td>\n",
       "      <td>0.0153</td>\n",
       "      <td>0.015263</td>\n",
       "      <td>2.000000</td>\n",
       "      <td>GALAXY</td>\n",
       "      <td>GALAXY</td>\n",
       "    </tr>\n",
       "    <tr>\n",
       "      <th>17</th>\n",
       "      <td>3.623400</td>\n",
       "      <td>0.0734</td>\n",
       "      <td>0.073431</td>\n",
       "      <td>4.000000</td>\n",
       "      <td>QSO</td>\n",
       "      <td>QSO</td>\n",
       "    </tr>\n",
       "    <tr>\n",
       "      <th>19</th>\n",
       "      <td>1.628460</td>\n",
       "      <td>1.6284</td>\n",
       "      <td>0.974732</td>\n",
       "      <td>2.000000</td>\n",
       "      <td>GALAXY</td>\n",
       "      <td>GALAXY</td>\n",
       "    </tr>\n",
       "    <tr>\n",
       "      <th>21</th>\n",
       "      <td>1.024020</td>\n",
       "      <td>1.0243</td>\n",
       "      <td>1.024380</td>\n",
       "      <td>2.000000</td>\n",
       "      <td>GALAXY</td>\n",
       "      <td>GALAXY</td>\n",
       "    </tr>\n",
       "    <tr>\n",
       "      <th>26</th>\n",
       "      <td>0.206400</td>\n",
       "      <td>0.2064</td>\n",
       "      <td>0.206033</td>\n",
       "      <td>2.000000</td>\n",
       "      <td>GALAXY</td>\n",
       "      <td>GALAXY</td>\n",
       "    </tr>\n",
       "    <tr>\n",
       "      <th>32</th>\n",
       "      <td>0.499100</td>\n",
       "      <td>0.4991</td>\n",
       "      <td>0.499084</td>\n",
       "      <td>2.000000</td>\n",
       "      <td>GALAXY</td>\n",
       "      <td>GALAXY</td>\n",
       "    </tr>\n",
       "    <tr>\n",
       "      <th>33</th>\n",
       "      <td>0.856500</td>\n",
       "      <td>0.8565</td>\n",
       "      <td>0.856453</td>\n",
       "      <td>3.800000</td>\n",
       "      <td>GALAXY</td>\n",
       "      <td>GALAXY</td>\n",
       "    </tr>\n",
       "    <tr>\n",
       "      <th>34</th>\n",
       "      <td>1.542200</td>\n",
       "      <td>1.5422</td>\n",
       "      <td>1.648815</td>\n",
       "      <td>2.000000</td>\n",
       "      <td>GALAXY</td>\n",
       "      <td>GALAXY</td>\n",
       "    </tr>\n",
       "    <tr>\n",
       "      <th>37</th>\n",
       "      <td>-0.000200</td>\n",
       "      <td>-0.0002</td>\n",
       "      <td>-0.000202</td>\n",
       "      <td>3.000000</td>\n",
       "      <td>STAR</td>\n",
       "      <td>STAR</td>\n",
       "    </tr>\n",
       "    <tr>\n",
       "      <th>38</th>\n",
       "      <td>0.000000</td>\n",
       "      <td>1.0776</td>\n",
       "      <td>0.538744</td>\n",
       "      <td>3.000000</td>\n",
       "      <td>STAR</td>\n",
       "      <td>GALAXY</td>\n",
       "    </tr>\n",
       "    <tr>\n",
       "      <th>40</th>\n",
       "      <td>0.000000</td>\n",
       "      <td>0.9472</td>\n",
       "      <td>0.503992</td>\n",
       "      <td>2.000000</td>\n",
       "      <td>STAR</td>\n",
       "      <td>GALAXY</td>\n",
       "    </tr>\n",
       "    <tr>\n",
       "      <th>41</th>\n",
       "      <td>0.997200</td>\n",
       "      <td>0.9972</td>\n",
       "      <td>0.496812</td>\n",
       "      <td>2.000000</td>\n",
       "      <td>GALAXY</td>\n",
       "      <td>GALAXY</td>\n",
       "    </tr>\n",
       "    <tr>\n",
       "      <th>44</th>\n",
       "      <td>0.000000</td>\n",
       "      <td>0.8489</td>\n",
       "      <td>0.776183</td>\n",
       "      <td>3.000000</td>\n",
       "      <td>STAR</td>\n",
       "      <td>GALAXY</td>\n",
       "    </tr>\n",
       "    <tr>\n",
       "      <th>52</th>\n",
       "      <td>-0.000700</td>\n",
       "      <td>-0.0007</td>\n",
       "      <td>-0.000652</td>\n",
       "      <td>2.750000</td>\n",
       "      <td>STAR</td>\n",
       "      <td>GALAXY</td>\n",
       "    </tr>\n",
       "    <tr>\n",
       "      <th>53</th>\n",
       "      <td>0.962900</td>\n",
       "      <td>0.9629</td>\n",
       "      <td>0.962843</td>\n",
       "      <td>2.500000</td>\n",
       "      <td>GALAXY</td>\n",
       "      <td>GALAXY</td>\n",
       "    </tr>\n",
       "    <tr>\n",
       "      <th>...</th>\n",
       "      <td>...</td>\n",
       "      <td>...</td>\n",
       "      <td>...</td>\n",
       "      <td>...</td>\n",
       "      <td>...</td>\n",
       "      <td>...</td>\n",
       "    </tr>\n",
       "    <tr>\n",
       "      <th>844</th>\n",
       "      <td>0.000000</td>\n",
       "      <td>1.2859</td>\n",
       "      <td>1.285839</td>\n",
       "      <td>1.000000</td>\n",
       "      <td>STAR</td>\n",
       "      <td>GALAXY</td>\n",
       "    </tr>\n",
       "    <tr>\n",
       "      <th>845</th>\n",
       "      <td>1.208900</td>\n",
       "      <td>1.2089</td>\n",
       "      <td>1.208880</td>\n",
       "      <td>1.000000</td>\n",
       "      <td>GALAXY</td>\n",
       "      <td>GALAXY</td>\n",
       "    </tr>\n",
       "    <tr>\n",
       "      <th>852</th>\n",
       "      <td>1.028900</td>\n",
       "      <td>1.0289</td>\n",
       "      <td>1.028865</td>\n",
       "      <td>1.000000</td>\n",
       "      <td>GALAXY</td>\n",
       "      <td>GALAXY</td>\n",
       "    </tr>\n",
       "    <tr>\n",
       "      <th>854</th>\n",
       "      <td>-0.000100</td>\n",
       "      <td>-0.0001</td>\n",
       "      <td>1.512828</td>\n",
       "      <td>3.000000</td>\n",
       "      <td>STAR</td>\n",
       "      <td>GALAXY</td>\n",
       "    </tr>\n",
       "    <tr>\n",
       "      <th>855</th>\n",
       "      <td>0.563300</td>\n",
       "      <td>0.5633</td>\n",
       "      <td>0.483807</td>\n",
       "      <td>0.000000</td>\n",
       "      <td>GALAXY</td>\n",
       "      <td>GALAXY</td>\n",
       "    </tr>\n",
       "    <tr>\n",
       "      <th>863</th>\n",
       "      <td>0.000000</td>\n",
       "      <td>-0.0000</td>\n",
       "      <td>-0.000009</td>\n",
       "      <td>4.000000</td>\n",
       "      <td>STAR</td>\n",
       "      <td>STAR</td>\n",
       "    </tr>\n",
       "    <tr>\n",
       "      <th>864</th>\n",
       "      <td>1.308300</td>\n",
       "      <td>1.3083</td>\n",
       "      <td>1.308313</td>\n",
       "      <td>2.500000</td>\n",
       "      <td>GALAXY</td>\n",
       "      <td>GALAXY</td>\n",
       "    </tr>\n",
       "    <tr>\n",
       "      <th>867</th>\n",
       "      <td>1.328000</td>\n",
       "      <td>1.3280</td>\n",
       "      <td>1.294917</td>\n",
       "      <td>1.333333</td>\n",
       "      <td>GALAXY</td>\n",
       "      <td>GALAXY</td>\n",
       "    </tr>\n",
       "    <tr>\n",
       "      <th>869</th>\n",
       "      <td>0.773700</td>\n",
       "      <td>0.7737</td>\n",
       "      <td>1.508677</td>\n",
       "      <td>1.000000</td>\n",
       "      <td>GALAXY</td>\n",
       "      <td>GALAXY</td>\n",
       "    </tr>\n",
       "    <tr>\n",
       "      <th>870</th>\n",
       "      <td>0.771500</td>\n",
       "      <td>0.7715</td>\n",
       "      <td>-0.000296</td>\n",
       "      <td>1.333333</td>\n",
       "      <td>GALAXY</td>\n",
       "      <td>STAR</td>\n",
       "    </tr>\n",
       "    <tr>\n",
       "      <th>872</th>\n",
       "      <td>1.642733</td>\n",
       "      <td>0.5577</td>\n",
       "      <td>0.600378</td>\n",
       "      <td>2.333333</td>\n",
       "      <td>QSO</td>\n",
       "      <td>GALAXY</td>\n",
       "    </tr>\n",
       "    <tr>\n",
       "      <th>874</th>\n",
       "      <td>1.730600</td>\n",
       "      <td>1.7306</td>\n",
       "      <td>1.733489</td>\n",
       "      <td>4.000000</td>\n",
       "      <td>QSO</td>\n",
       "      <td>QSO</td>\n",
       "    </tr>\n",
       "    <tr>\n",
       "      <th>877</th>\n",
       "      <td>1.681500</td>\n",
       "      <td>1.6815</td>\n",
       "      <td>1.685221</td>\n",
       "      <td>3.666667</td>\n",
       "      <td>QSO</td>\n",
       "      <td>QSO</td>\n",
       "    </tr>\n",
       "    <tr>\n",
       "      <th>881</th>\n",
       "      <td>1.047600</td>\n",
       "      <td>0.4476</td>\n",
       "      <td>0.446418</td>\n",
       "      <td>2.000000</td>\n",
       "      <td>QSO</td>\n",
       "      <td>GALAXY</td>\n",
       "    </tr>\n",
       "    <tr>\n",
       "      <th>882</th>\n",
       "      <td>0.414000</td>\n",
       "      <td>0.4140</td>\n",
       "      <td>0.414121</td>\n",
       "      <td>4.000000</td>\n",
       "      <td>QSO</td>\n",
       "      <td>GALAXY</td>\n",
       "    </tr>\n",
       "    <tr>\n",
       "      <th>886</th>\n",
       "      <td>0.000200</td>\n",
       "      <td>0.0002</td>\n",
       "      <td>1.017105</td>\n",
       "      <td>2.333333</td>\n",
       "      <td>STAR</td>\n",
       "      <td>GALAXY</td>\n",
       "    </tr>\n",
       "    <tr>\n",
       "      <th>891</th>\n",
       "      <td>0.170200</td>\n",
       "      <td>1.0179</td>\n",
       "      <td>1.017904</td>\n",
       "      <td>2.000000</td>\n",
       "      <td>GALAXY</td>\n",
       "      <td>GALAXY</td>\n",
       "    </tr>\n",
       "    <tr>\n",
       "      <th>893</th>\n",
       "      <td>2.194600</td>\n",
       "      <td>2.1946</td>\n",
       "      <td>2.194499</td>\n",
       "      <td>1.333333</td>\n",
       "      <td>QSO</td>\n",
       "      <td>QSO</td>\n",
       "    </tr>\n",
       "    <tr>\n",
       "      <th>901</th>\n",
       "      <td>1.087900</td>\n",
       "      <td>1.1917</td>\n",
       "      <td>1.191675</td>\n",
       "      <td>2.500000</td>\n",
       "      <td>QSO</td>\n",
       "      <td>GALAXY</td>\n",
       "    </tr>\n",
       "    <tr>\n",
       "      <th>905</th>\n",
       "      <td>-0.000500</td>\n",
       "      <td>-0.0005</td>\n",
       "      <td>-0.000496</td>\n",
       "      <td>4.000000</td>\n",
       "      <td>STAR</td>\n",
       "      <td>STAR</td>\n",
       "    </tr>\n",
       "    <tr>\n",
       "      <th>907</th>\n",
       "      <td>0.752600</td>\n",
       "      <td>0.7526</td>\n",
       "      <td>0.752598</td>\n",
       "      <td>1.333333</td>\n",
       "      <td>GALAXY</td>\n",
       "      <td>GALAXY</td>\n",
       "    </tr>\n",
       "    <tr>\n",
       "      <th>908</th>\n",
       "      <td>0.991400</td>\n",
       "      <td>1.5955</td>\n",
       "      <td>1.595539</td>\n",
       "      <td>3.000000</td>\n",
       "      <td>QSO</td>\n",
       "      <td>GALAXY</td>\n",
       "    </tr>\n",
       "    <tr>\n",
       "      <th>911</th>\n",
       "      <td>0.000500</td>\n",
       "      <td>1.0351</td>\n",
       "      <td>0.000053</td>\n",
       "      <td>2.500000</td>\n",
       "      <td>STAR</td>\n",
       "      <td>GALAXY</td>\n",
       "    </tr>\n",
       "    <tr>\n",
       "      <th>912</th>\n",
       "      <td>0.000000</td>\n",
       "      <td>0.6789</td>\n",
       "      <td>0.678866</td>\n",
       "      <td>2.000000</td>\n",
       "      <td>STAR</td>\n",
       "      <td>GALAXY</td>\n",
       "    </tr>\n",
       "    <tr>\n",
       "      <th>913</th>\n",
       "      <td>1.100600</td>\n",
       "      <td>1.1006</td>\n",
       "      <td>1.016875</td>\n",
       "      <td>1.000000</td>\n",
       "      <td>GALAXY</td>\n",
       "      <td>GALAXY</td>\n",
       "    </tr>\n",
       "  </tbody>\n",
       "</table>\n",
       "<p>420 rows × 6 columns</p>\n",
       "</div>"
      ],
      "text/plain": [
       "     best z  Redrock z   Z_andes  best quality best spectype SPECTYPE_andes\n",
       "0    1.4995     1.4995  1.499507      1.000000        GALAXY         GALAXY\n",
       "1    0.4102     0.4102  0.410166      3.600000        GALAXY         GALAXY\n",
       "5    0.4586     0.4586  0.458561      1.000000        GALAXY         GALAXY\n",
       "6    0.9357     0.9357  0.935665      4.000000           QSO         GALAXY\n",
       "7    1.5005     1.5005  1.500476      1.000000        GALAXY         GALAXY\n",
       "..      ...        ...       ...           ...           ...            ...\n",
       "907  0.7526     0.7526  0.752598      1.333333        GALAXY         GALAXY\n",
       "908  0.9914     1.5955  1.595539      3.000000           QSO         GALAXY\n",
       "911  0.0005     1.0351  0.000053      2.500000          STAR         GALAXY\n",
       "912  0.0000     0.6789  0.678866      2.000000          STAR         GALAXY\n",
       "913  1.1006     1.1006  1.016875      1.000000        GALAXY         GALAXY\n",
       "\n",
       "[420 rows x 6 columns]"
      ]
     },
     "execution_count": 20,
     "metadata": {},
     "output_type": "execute_result"
    }
   ],
   "source": [
    "re_VI[['best z', 'Redrock z', 'Z_andes', 'best quality', 'best spectype', 'SPECTYPE_andes']]"
   ]
  },
  {
   "cell_type": "code",
   "execution_count": 22,
   "metadata": {},
   "outputs": [],
   "source": [
    "re_VI['TARGETID'].to_csv('/global/cfs/cdirs/desi/sv/vi/TruthTables/'+save_filename, index=False, header=False)"
   ]
  },
  {
   "cell_type": "code",
   "execution_count": 23,
   "metadata": {},
   "outputs": [
    {
     "data": {
      "text/plain": [
       "0      35185929937227607\n",
       "1      35185929937228335\n",
       "5      35185929941419181\n",
       "6      35185929941419381\n",
       "7      35185929941420031\n",
       "             ...        \n",
       "907    35185965903380947\n",
       "908    35185965903382565\n",
       "911    35185965903383057\n",
       "912    35185965903384400\n",
       "913    35185965903385357\n",
       "Name: TARGETID, Length: 420, dtype: int64"
      ]
     },
     "execution_count": 23,
     "metadata": {},
     "output_type": "execute_result"
    }
   ],
   "source": [
    "re_VI['TARGETID']"
   ]
  },
  {
   "cell_type": "code",
   "execution_count": null,
   "metadata": {},
   "outputs": [],
   "source": []
  }
 ],
 "metadata": {
  "kernelspec": {
   "display_name": "DESI 19.12",
   "language": "python",
   "name": "desi-19.12"
  },
  "language_info": {
   "codemirror_mode": {
    "name": "ipython",
    "version": 3
   },
   "file_extension": ".py",
   "mimetype": "text/x-python",
   "name": "python",
   "nbconvert_exporter": "python",
   "pygments_lexer": "ipython3",
   "version": "3.6.6"
  }
 },
 "nbformat": 4,
 "nbformat_minor": 4
}
